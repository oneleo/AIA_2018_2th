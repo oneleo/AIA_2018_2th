{
  "nbformat": 4,
  "nbformat_minor": 0,
  "metadata": {
    "colab": {
      "name": "iris_classification.ipynb",
      "version": "0.3.2",
      "provenance": [],
      "include_colab_link": true
    },
    "kernelspec": {
      "name": "python3",
      "display_name": "Python 3"
    }
  },
  "cells": [
    {
      "cell_type": "markdown",
      "metadata": {
        "id": "view-in-github",
        "colab_type": "text"
      },
      "source": [
        "[View in Colaboratory](https://colab.research.google.com/github/oneleo/AIA_2018_2th/blob/master/iris_classification.ipynb)"
      ]
    },
    {
      "metadata": {
        "id": "t6YDzsnQAhfY",
        "colab_type": "text"
      },
      "cell_type": "markdown",
      "source": [
        "# Iris Classification"
      ]
    },
    {
      "metadata": {
        "id": "Ni1CHVU2juXX",
        "colab_type": "code",
        "colab": {}
      },
      "cell_type": "code",
      "source": [
        "from sklearn.datasets import load_iris\n",
        "import numpy as np"
      ],
      "execution_count": 0,
      "outputs": []
    },
    {
      "metadata": {
        "id": "xX_8Gul4kO5h",
        "colab_type": "code",
        "colab": {
          "base_uri": "https://localhost:8080/",
          "height": 34
        },
        "outputId": "7f6d8d82-6c7f-4b90-e2bc-a412aaaff3d7"
      },
      "cell_type": "code",
      "source": [
        "iris_data = load_iris()\n",
        "print(iris_data.keys())"
      ],
      "execution_count": 3,
      "outputs": [
        {
          "output_type": "stream",
          "text": [
            "dict_keys(['data', 'target', 'target_names', 'DESCR', 'feature_names'])\n"
          ],
          "name": "stdout"
        }
      ]
    },
    {
      "metadata": {
        "id": "VMk8__pikf0I",
        "colab_type": "code",
        "colab": {
          "base_uri": "https://localhost:8080/",
          "height": 1088
        },
        "outputId": "835a1472-f7d1-4eb6-fac8-f8afc748e496"
      },
      "cell_type": "code",
      "source": [
        "print(iris_data.DESCR)"
      ],
      "execution_count": 4,
      "outputs": [
        {
          "output_type": "stream",
          "text": [
            "Iris Plants Database\n",
            "====================\n",
            "\n",
            "Notes\n",
            "-----\n",
            "Data Set Characteristics:\n",
            "    :Number of Instances: 150 (50 in each of three classes)\n",
            "    :Number of Attributes: 4 numeric, predictive attributes and the class\n",
            "    :Attribute Information:\n",
            "        - sepal length in cm\n",
            "        - sepal width in cm\n",
            "        - petal length in cm\n",
            "        - petal width in cm\n",
            "        - class:\n",
            "                - Iris-Setosa\n",
            "                - Iris-Versicolour\n",
            "                - Iris-Virginica\n",
            "    :Summary Statistics:\n",
            "\n",
            "    ============== ==== ==== ======= ===== ====================\n",
            "                    Min  Max   Mean    SD   Class Correlation\n",
            "    ============== ==== ==== ======= ===== ====================\n",
            "    sepal length:   4.3  7.9   5.84   0.83    0.7826\n",
            "    sepal width:    2.0  4.4   3.05   0.43   -0.4194\n",
            "    petal length:   1.0  6.9   3.76   1.76    0.9490  (high!)\n",
            "    petal width:    0.1  2.5   1.20  0.76     0.9565  (high!)\n",
            "    ============== ==== ==== ======= ===== ====================\n",
            "\n",
            "    :Missing Attribute Values: None\n",
            "    :Class Distribution: 33.3% for each of 3 classes.\n",
            "    :Creator: R.A. Fisher\n",
            "    :Donor: Michael Marshall (MARSHALL%PLU@io.arc.nasa.gov)\n",
            "    :Date: July, 1988\n",
            "\n",
            "This is a copy of UCI ML iris datasets.\n",
            "http://archive.ics.uci.edu/ml/datasets/Iris\n",
            "\n",
            "The famous Iris database, first used by Sir R.A Fisher\n",
            "\n",
            "This is perhaps the best known database to be found in the\n",
            "pattern recognition literature.  Fisher's paper is a classic in the field and\n",
            "is referenced frequently to this day.  (See Duda & Hart, for example.)  The\n",
            "data set contains 3 classes of 50 instances each, where each class refers to a\n",
            "type of iris plant.  One class is linearly separable from the other 2; the\n",
            "latter are NOT linearly separable from each other.\n",
            "\n",
            "References\n",
            "----------\n",
            "   - Fisher,R.A. \"The use of multiple measurements in taxonomic problems\"\n",
            "     Annual Eugenics, 7, Part II, 179-188 (1936); also in \"Contributions to\n",
            "     Mathematical Statistics\" (John Wiley, NY, 1950).\n",
            "   - Duda,R.O., & Hart,P.E. (1973) Pattern Classification and Scene Analysis.\n",
            "     (Q327.D83) John Wiley & Sons.  ISBN 0-471-22361-1.  See page 218.\n",
            "   - Dasarathy, B.V. (1980) \"Nosing Around the Neighborhood: A New System\n",
            "     Structure and Classification Rule for Recognition in Partially Exposed\n",
            "     Environments\".  IEEE Transactions on Pattern Analysis and Machine\n",
            "     Intelligence, Vol. PAMI-2, No. 1, 67-71.\n",
            "   - Gates, G.W. (1972) \"The Reduced Nearest Neighbor Rule\".  IEEE Transactions\n",
            "     on Information Theory, May 1972, 431-433.\n",
            "   - See also: 1988 MLC Proceedings, 54-64.  Cheeseman et al\"s AUTOCLASS II\n",
            "     conceptual clustering system finds 3 classes in the data.\n",
            "   - Many, many more ...\n",
            "\n"
          ],
          "name": "stdout"
        }
      ]
    },
    {
      "metadata": {
        "id": "3-hlWEUSkyep",
        "colab_type": "code",
        "colab": {
          "base_uri": "https://localhost:8080/",
          "height": 2584
        },
        "outputId": "9c9fd9ea-a4ae-4487-9840-98cd4ef742b4"
      },
      "cell_type": "code",
      "source": [
        "print(iris_data.data)\n",
        "print(iris_data.data.shape)"
      ],
      "execution_count": 5,
      "outputs": [
        {
          "output_type": "stream",
          "text": [
            "[[5.1 3.5 1.4 0.2]\n",
            " [4.9 3.  1.4 0.2]\n",
            " [4.7 3.2 1.3 0.2]\n",
            " [4.6 3.1 1.5 0.2]\n",
            " [5.  3.6 1.4 0.2]\n",
            " [5.4 3.9 1.7 0.4]\n",
            " [4.6 3.4 1.4 0.3]\n",
            " [5.  3.4 1.5 0.2]\n",
            " [4.4 2.9 1.4 0.2]\n",
            " [4.9 3.1 1.5 0.1]\n",
            " [5.4 3.7 1.5 0.2]\n",
            " [4.8 3.4 1.6 0.2]\n",
            " [4.8 3.  1.4 0.1]\n",
            " [4.3 3.  1.1 0.1]\n",
            " [5.8 4.  1.2 0.2]\n",
            " [5.7 4.4 1.5 0.4]\n",
            " [5.4 3.9 1.3 0.4]\n",
            " [5.1 3.5 1.4 0.3]\n",
            " [5.7 3.8 1.7 0.3]\n",
            " [5.1 3.8 1.5 0.3]\n",
            " [5.4 3.4 1.7 0.2]\n",
            " [5.1 3.7 1.5 0.4]\n",
            " [4.6 3.6 1.  0.2]\n",
            " [5.1 3.3 1.7 0.5]\n",
            " [4.8 3.4 1.9 0.2]\n",
            " [5.  3.  1.6 0.2]\n",
            " [5.  3.4 1.6 0.4]\n",
            " [5.2 3.5 1.5 0.2]\n",
            " [5.2 3.4 1.4 0.2]\n",
            " [4.7 3.2 1.6 0.2]\n",
            " [4.8 3.1 1.6 0.2]\n",
            " [5.4 3.4 1.5 0.4]\n",
            " [5.2 4.1 1.5 0.1]\n",
            " [5.5 4.2 1.4 0.2]\n",
            " [4.9 3.1 1.5 0.1]\n",
            " [5.  3.2 1.2 0.2]\n",
            " [5.5 3.5 1.3 0.2]\n",
            " [4.9 3.1 1.5 0.1]\n",
            " [4.4 3.  1.3 0.2]\n",
            " [5.1 3.4 1.5 0.2]\n",
            " [5.  3.5 1.3 0.3]\n",
            " [4.5 2.3 1.3 0.3]\n",
            " [4.4 3.2 1.3 0.2]\n",
            " [5.  3.5 1.6 0.6]\n",
            " [5.1 3.8 1.9 0.4]\n",
            " [4.8 3.  1.4 0.3]\n",
            " [5.1 3.8 1.6 0.2]\n",
            " [4.6 3.2 1.4 0.2]\n",
            " [5.3 3.7 1.5 0.2]\n",
            " [5.  3.3 1.4 0.2]\n",
            " [7.  3.2 4.7 1.4]\n",
            " [6.4 3.2 4.5 1.5]\n",
            " [6.9 3.1 4.9 1.5]\n",
            " [5.5 2.3 4.  1.3]\n",
            " [6.5 2.8 4.6 1.5]\n",
            " [5.7 2.8 4.5 1.3]\n",
            " [6.3 3.3 4.7 1.6]\n",
            " [4.9 2.4 3.3 1. ]\n",
            " [6.6 2.9 4.6 1.3]\n",
            " [5.2 2.7 3.9 1.4]\n",
            " [5.  2.  3.5 1. ]\n",
            " [5.9 3.  4.2 1.5]\n",
            " [6.  2.2 4.  1. ]\n",
            " [6.1 2.9 4.7 1.4]\n",
            " [5.6 2.9 3.6 1.3]\n",
            " [6.7 3.1 4.4 1.4]\n",
            " [5.6 3.  4.5 1.5]\n",
            " [5.8 2.7 4.1 1. ]\n",
            " [6.2 2.2 4.5 1.5]\n",
            " [5.6 2.5 3.9 1.1]\n",
            " [5.9 3.2 4.8 1.8]\n",
            " [6.1 2.8 4.  1.3]\n",
            " [6.3 2.5 4.9 1.5]\n",
            " [6.1 2.8 4.7 1.2]\n",
            " [6.4 2.9 4.3 1.3]\n",
            " [6.6 3.  4.4 1.4]\n",
            " [6.8 2.8 4.8 1.4]\n",
            " [6.7 3.  5.  1.7]\n",
            " [6.  2.9 4.5 1.5]\n",
            " [5.7 2.6 3.5 1. ]\n",
            " [5.5 2.4 3.8 1.1]\n",
            " [5.5 2.4 3.7 1. ]\n",
            " [5.8 2.7 3.9 1.2]\n",
            " [6.  2.7 5.1 1.6]\n",
            " [5.4 3.  4.5 1.5]\n",
            " [6.  3.4 4.5 1.6]\n",
            " [6.7 3.1 4.7 1.5]\n",
            " [6.3 2.3 4.4 1.3]\n",
            " [5.6 3.  4.1 1.3]\n",
            " [5.5 2.5 4.  1.3]\n",
            " [5.5 2.6 4.4 1.2]\n",
            " [6.1 3.  4.6 1.4]\n",
            " [5.8 2.6 4.  1.2]\n",
            " [5.  2.3 3.3 1. ]\n",
            " [5.6 2.7 4.2 1.3]\n",
            " [5.7 3.  4.2 1.2]\n",
            " [5.7 2.9 4.2 1.3]\n",
            " [6.2 2.9 4.3 1.3]\n",
            " [5.1 2.5 3.  1.1]\n",
            " [5.7 2.8 4.1 1.3]\n",
            " [6.3 3.3 6.  2.5]\n",
            " [5.8 2.7 5.1 1.9]\n",
            " [7.1 3.  5.9 2.1]\n",
            " [6.3 2.9 5.6 1.8]\n",
            " [6.5 3.  5.8 2.2]\n",
            " [7.6 3.  6.6 2.1]\n",
            " [4.9 2.5 4.5 1.7]\n",
            " [7.3 2.9 6.3 1.8]\n",
            " [6.7 2.5 5.8 1.8]\n",
            " [7.2 3.6 6.1 2.5]\n",
            " [6.5 3.2 5.1 2. ]\n",
            " [6.4 2.7 5.3 1.9]\n",
            " [6.8 3.  5.5 2.1]\n",
            " [5.7 2.5 5.  2. ]\n",
            " [5.8 2.8 5.1 2.4]\n",
            " [6.4 3.2 5.3 2.3]\n",
            " [6.5 3.  5.5 1.8]\n",
            " [7.7 3.8 6.7 2.2]\n",
            " [7.7 2.6 6.9 2.3]\n",
            " [6.  2.2 5.  1.5]\n",
            " [6.9 3.2 5.7 2.3]\n",
            " [5.6 2.8 4.9 2. ]\n",
            " [7.7 2.8 6.7 2. ]\n",
            " [6.3 2.7 4.9 1.8]\n",
            " [6.7 3.3 5.7 2.1]\n",
            " [7.2 3.2 6.  1.8]\n",
            " [6.2 2.8 4.8 1.8]\n",
            " [6.1 3.  4.9 1.8]\n",
            " [6.4 2.8 5.6 2.1]\n",
            " [7.2 3.  5.8 1.6]\n",
            " [7.4 2.8 6.1 1.9]\n",
            " [7.9 3.8 6.4 2. ]\n",
            " [6.4 2.8 5.6 2.2]\n",
            " [6.3 2.8 5.1 1.5]\n",
            " [6.1 2.6 5.6 1.4]\n",
            " [7.7 3.  6.1 2.3]\n",
            " [6.3 3.4 5.6 2.4]\n",
            " [6.4 3.1 5.5 1.8]\n",
            " [6.  3.  4.8 1.8]\n",
            " [6.9 3.1 5.4 2.1]\n",
            " [6.7 3.1 5.6 2.4]\n",
            " [6.9 3.1 5.1 2.3]\n",
            " [5.8 2.7 5.1 1.9]\n",
            " [6.8 3.2 5.9 2.3]\n",
            " [6.7 3.3 5.7 2.5]\n",
            " [6.7 3.  5.2 2.3]\n",
            " [6.3 2.5 5.  1.9]\n",
            " [6.5 3.  5.2 2. ]\n",
            " [6.2 3.4 5.4 2.3]\n",
            " [5.9 3.  5.1 1.8]]\n",
            "(150, 4)\n"
          ],
          "name": "stdout"
        }
      ]
    },
    {
      "metadata": {
        "id": "kCTl3pmck3yr",
        "colab_type": "code",
        "colab": {
          "base_uri": "https://localhost:8080/",
          "height": 119
        },
        "outputId": "45c25cb8-a6ed-450f-eb1d-74c809163972"
      },
      "cell_type": "code",
      "source": [
        "print(iris_data.target)\n",
        "print(iris_data.target.shape)"
      ],
      "execution_count": 6,
      "outputs": [
        {
          "output_type": "stream",
          "text": [
            "[0 0 0 0 0 0 0 0 0 0 0 0 0 0 0 0 0 0 0 0 0 0 0 0 0 0 0 0 0 0 0 0 0 0 0 0 0\n",
            " 0 0 0 0 0 0 0 0 0 0 0 0 0 1 1 1 1 1 1 1 1 1 1 1 1 1 1 1 1 1 1 1 1 1 1 1 1\n",
            " 1 1 1 1 1 1 1 1 1 1 1 1 1 1 1 1 1 1 1 1 1 1 1 1 1 1 2 2 2 2 2 2 2 2 2 2 2\n",
            " 2 2 2 2 2 2 2 2 2 2 2 2 2 2 2 2 2 2 2 2 2 2 2 2 2 2 2 2 2 2 2 2 2 2 2 2 2\n",
            " 2 2]\n",
            "(150,)\n"
          ],
          "name": "stdout"
        }
      ]
    },
    {
      "metadata": {
        "id": "VxUDTn6k-7uF",
        "colab_type": "code",
        "colab": {}
      },
      "cell_type": "code",
      "source": [
        "from sklearn.model_selection import train_test_split\n",
        "X_train, X_test, y_train, y_test = train_test_split(iris_data.data, iris_data.target,test_size=0.33, random_state= 42, shuffle=True)"
      ],
      "execution_count": 0,
      "outputs": []
    },
    {
      "metadata": {
        "id": "CPKk3Kbi_HIx",
        "colab_type": "code",
        "colab": {}
      },
      "cell_type": "code",
      "source": [
        "from sklearn.linear_model import LogisticRegression\n",
        "model = LogisticRegression()\n",
        "model.fit(X_train,y_train)\n",
        "y_test_pred = model.predict(X_test)"
      ],
      "execution_count": 0,
      "outputs": []
    },
    {
      "metadata": {
        "id": "fTKmneNhAo0t",
        "colab_type": "text"
      },
      "cell_type": "markdown",
      "source": [
        "# Confusion Matrix"
      ]
    },
    {
      "metadata": {
        "id": "yjWeTO3t_ncn",
        "colab_type": "code",
        "colab": {
          "base_uri": "https://localhost:8080/",
          "height": 85
        },
        "outputId": "8bb4f7b7-772f-4712-c074-476227c16add"
      },
      "cell_type": "code",
      "source": [
        "from sklearn import metrics\n",
        "\n",
        "print('Accuracy:%.2f'%metrics.accuracy_score(y_test, y_test_pred))\n",
        "print(metrics.confusion_matrix(y_test, y_test_pred))"
      ],
      "execution_count": 9,
      "outputs": [
        {
          "output_type": "stream",
          "text": [
            "Accuracy:1.00\n",
            "[[19  0  0]\n",
            " [ 0 15  0]\n",
            " [ 0  0 16]]\n"
          ],
          "name": "stdout"
        }
      ]
    },
    {
      "metadata": {
        "id": "3Mza5xS__1Uj",
        "colab_type": "code",
        "colab": {
          "base_uri": "https://localhost:8080/",
          "height": 935
        },
        "outputId": "5bcaa652-9033-41d9-f6d9-8b822e40db01"
      },
      "cell_type": "code",
      "source": [
        "y_test_pred = model.predict(X_test)\n",
        "y_test_pred_proba = model.predict_proba(X_test)\n",
        "print('Classification Output:\\n', y_test_pred)\n",
        "print('Probability Output:\\n', y_test_pred_proba)"
      ],
      "execution_count": 10,
      "outputs": [
        {
          "output_type": "stream",
          "text": [
            "Classification Output:\n",
            " [1 0 2 1 1 0 1 2 1 1 2 0 0 0 0 1 2 1 1 2 0 2 0 2 2 2 2 2 0 0 0 0 1 0 0 2 1\n",
            " 0 0 0 2 1 1 0 0 1 2 2 1 2]\n",
            "Probability Output:\n",
            " [[1.25298758e-02 6.68109800e-01 3.19360324e-01]\n",
            " [8.89553501e-01 1.10419767e-01 2.67323166e-05]\n",
            " [3.03573432e-05 4.13187824e-01 5.86781818e-01]\n",
            " [1.82800122e-02 5.54955195e-01 4.26764793e-01]\n",
            " [1.17152929e-02 7.36405053e-01 2.51879654e-01]\n",
            " [8.63680511e-01 1.36262048e-01 5.74418999e-05]\n",
            " [1.79128050e-01 6.78324666e-01 1.42547284e-01]\n",
            " [3.52556308e-03 2.91150243e-01 7.05324194e-01]\n",
            " [4.79219667e-03 5.82239040e-01 4.12968764e-01]\n",
            " [6.92023914e-02 7.66591464e-01 1.64206144e-01]\n",
            " [4.77922595e-03 3.13383550e-01 6.81837224e-01]\n",
            " [7.89372758e-01 2.10530561e-01 9.66817939e-05]\n",
            " [8.64930398e-01 1.35051719e-01 1.78822315e-05]\n",
            " [7.96572373e-01 2.03336535e-01 9.10924809e-05]\n",
            " [9.14085715e-01 8.58719771e-02 4.23082488e-05]\n",
            " [2.81092156e-02 5.35883167e-01 4.36007618e-01]\n",
            " [4.66788820e-04 2.74457224e-01 7.25075988e-01]\n",
            " [4.55900829e-02 7.63213143e-01 1.91196774e-01]\n",
            " [1.50877886e-02 5.66599723e-01 4.18312488e-01]\n",
            " [5.07440500e-04 2.94579133e-01 7.04913427e-01]\n",
            " [8.27108441e-01 1.72720852e-01 1.70707154e-04]\n",
            " [5.36624905e-03 3.54195939e-01 6.40437812e-01]\n",
            " [8.70854412e-01 1.29014389e-01 1.31199416e-04]\n",
            " [5.52571578e-04 3.11866059e-01 6.87581369e-01]\n",
            " [1.16079674e-03 3.60155162e-01 6.38684042e-01]\n",
            " [1.96360381e-03 2.69075210e-01 7.28961186e-01]\n",
            " [3.10737821e-04 4.20041510e-01 5.79647752e-01]\n",
            " [5.37189885e-04 2.47546166e-01 7.51916644e-01]\n",
            " [8.14136669e-01 1.85710023e-01 1.53307200e-04]\n",
            " [8.05064315e-01 1.94768873e-01 1.66812587e-04]\n",
            " [9.16386242e-01 8.35823653e-02 3.13922119e-05]\n",
            " [9.56506705e-01 4.34838114e-02 9.48322342e-06]\n",
            " [5.91406417e-02 8.00570399e-01 1.40288960e-01]\n",
            " [8.56855280e-01 1.43031864e-01 1.12855878e-04]\n",
            " [8.57550173e-01 1.42311226e-01 1.38600407e-04]\n",
            " [1.57609091e-03 3.92043860e-01 6.06380050e-01]\n",
            " [4.64044733e-02 6.74529439e-01 2.79066087e-01]\n",
            " [8.64345682e-01 1.35610901e-01 4.34167097e-05]\n",
            " [8.89428277e-01 1.10530400e-01 4.13236921e-05]\n",
            " [9.26927668e-01 7.30566802e-02 1.56522555e-05]\n",
            " [1.38746771e-03 3.11826798e-01 6.86785734e-01]\n",
            " [5.11938017e-02 4.87966173e-01 4.60840026e-01]\n",
            " [2.53364267e-02 7.09358690e-01 2.65304883e-01]\n",
            " [9.30760158e-01 6.92208486e-02 1.89933296e-05]\n",
            " [8.85738619e-01 1.14236655e-01 2.47255873e-05]\n",
            " [6.25494157e-02 7.99921038e-01 1.37529546e-01]\n",
            " [3.35917495e-03 4.87337282e-01 5.09303543e-01]\n",
            " [1.59182604e-03 3.36447465e-01 6.61960709e-01]\n",
            " [4.59447757e-02 7.85695229e-01 1.68359995e-01]\n",
            " [6.55243201e-04 1.82543663e-01 8.16801094e-01]]\n"
          ],
          "name": "stdout"
        }
      ]
    },
    {
      "metadata": {
        "id": "hof3ukLBBLMd",
        "colab_type": "text"
      },
      "cell_type": "markdown",
      "source": [
        "# Tuning Logistic Regression - C Parameter"
      ]
    },
    {
      "metadata": {
        "id": "A5zo5br0AS4G",
        "colab_type": "code",
        "colab": {
          "base_uri": "https://localhost:8080/",
          "height": 221
        },
        "outputId": "786e6b74-c54f-4f07-f18a-826a07cfe4ee"
      },
      "cell_type": "code",
      "source": [
        "model = LogisticRegression(C=1.0)\n",
        "model.fit(X_train,y_train)\n",
        "y_train_pred = model.predict(X_train)\n",
        "y_test_pred = model.predict(X_test)\n",
        "print('train evaluation---------------------------------')\n",
        "print('accuracy:%.2f'%metrics.accuracy_score(y_train, y_train_pred))\n",
        "print('confusion matirx:\\n', metrics.confusion_matrix(y_train, y_train_pred))\n",
        "print('test evaluation---------------------------------')\n",
        "print('accuracy:%.2f'%metrics.accuracy_score(y_test, y_test_pred))\n",
        "print('confusion matirx:\\n', metrics.confusion_matrix(y_test, y_test_pred))\n",
        "\n"
      ],
      "execution_count": 11,
      "outputs": [
        {
          "output_type": "stream",
          "text": [
            "train evaluation---------------------------------\n",
            "accuracy:0.95\n",
            "confusion matirx:\n",
            " [[31  0  0]\n",
            " [ 0 31  4]\n",
            " [ 0  1 33]]\n",
            "test evaluation---------------------------------\n",
            "accuracy:1.00\n",
            "confusion matirx:\n",
            " [[19  0  0]\n",
            " [ 0 15  0]\n",
            " [ 0  0 16]]\n"
          ],
          "name": "stdout"
        }
      ]
    },
    {
      "metadata": {
        "id": "VdVU6Sh5EXYI",
        "colab_type": "text"
      },
      "cell_type": "markdown",
      "source": [
        "# Tuning Logistic Regression - Multi_Class"
      ]
    },
    {
      "metadata": {
        "id": "ngqXIf3CC-TO",
        "colab_type": "code",
        "colab": {
          "base_uri": "https://localhost:8080/",
          "height": 221
        },
        "outputId": "75e9e765-9eae-46ff-ac3e-34832c0b3e02"
      },
      "cell_type": "code",
      "source": [
        "model = LogisticRegression(solver='sag', multi_class='multinomial',max_iter=3000)\n",
        "model.fit(X_train,y_train)\n",
        "y_train_pred = model.predict(X_train)\n",
        "y_test_pred = model.predict(X_test)\n",
        "print('train evaluation---------------------------------')\n",
        "print('accuracy:%.2f'%metrics.accuracy_score(y_train, y_train_pred))\n",
        "print('confusion matirx:\\n', metrics.confusion_matrix(y_train, y_train_pred))\n",
        "print('test evaluation---------------------------------')\n",
        "print('accuracy:%.2f'%metrics.accuracy_score(y_test, y_test_pred))\n",
        "print('confusion matirx:\\n', metrics.confusion_matrix(y_test, y_test_pred))"
      ],
      "execution_count": 14,
      "outputs": [
        {
          "output_type": "stream",
          "text": [
            "train evaluation---------------------------------\n",
            "accuracy:0.96\n",
            "confusion matirx:\n",
            " [[31  0  0]\n",
            " [ 0 32  3]\n",
            " [ 0  1 33]]\n",
            "test evaluation---------------------------------\n",
            "accuracy:1.00\n",
            "confusion matirx:\n",
            " [[19  0  0]\n",
            " [ 0 15  0]\n",
            " [ 0  0 16]]\n"
          ],
          "name": "stdout"
        }
      ]
    },
    {
      "metadata": {
        "id": "yDV5WjvyEzAn",
        "colab_type": "code",
        "colab": {}
      },
      "cell_type": "code",
      "source": [
        ""
      ],
      "execution_count": 0,
      "outputs": []
    }
  ]
}